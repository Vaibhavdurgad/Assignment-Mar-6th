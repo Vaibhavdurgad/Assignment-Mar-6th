{
 "cells": [
  {
   "cell_type": "markdown",
   "id": "7520a325-0cc8-494e-9d6d-c9d89d986eb7",
   "metadata": {},
   "source": [
    "Q1. What is Statistics?"
   ]
  },
  {
   "cell_type": "markdown",
   "id": "ddb423c2-d3b4-48d1-b723-2747f8655b6b",
   "metadata": {},
   "source": [
    "Ans :In data science, statistics is at the core of sophisticated machine learning algorithms, capturing and translating data patterns into actionable evidence. Data scientists use statistics to gather, review, analyze, and draw conclusions from data, as well as apply quantified mathematical models to appropriate variables."
   ]
  },
  {
   "cell_type": "markdown",
   "id": "2abdf163-435e-4ff6-be7d-95ddf341eaf3",
   "metadata": {},
   "source": [
    "Q2. Define the different types of statistics and give an example of when each type might be used."
   ]
  },
  {
   "cell_type": "markdown",
   "id": "cd4b033e-2a2f-47e5-b0c0-94415a45c0ca",
   "metadata": {},
   "source": [
    "Ans :The two major areas of statistics are known as descriptive statistics, which describes the properties of sample and population data, and inferential statistics, which uses those properties to test hypotheses and draw conclusions"
   ]
  },
  {
   "cell_type": "markdown",
   "id": "9e538a41-8496-4a9f-a7fb-ddbc748ed92c",
   "metadata": {},
   "source": [
    "Descriptive statistics Example : In a class, the Data is the set of marks obtained by 50 students. Now when we take out the Data average, the result is the average of 50 students’ marks."
   ]
  },
  {
   "cell_type": "markdown",
   "id": "e95ae458-7c2b-4202-a8ef-9ceacc55c759",
   "metadata": {},
   "source": [
    "Inferential statistics Example :If the average marks obtained by 50 students are 88 out of 100, on the basis of the outcome, we will draw a conclusion. "
   ]
  },
  {
   "cell_type": "markdown",
   "id": "db68d7f7-e738-441c-b055-e56e15aec764",
   "metadata": {},
   "source": [
    "Q3. What are the different types of data and how do they differ from each other? Provide an example of\n",
    "each type of data."
   ]
  },
  {
   "cell_type": "markdown",
   "id": "1739225f-454c-4c8a-8de6-32fbc317c5bd",
   "metadata": {},
   "source": [
    "Ans : There are two types of data: Qualitative and Quantitative data, which are further classified into:\n",
    "\n",
    "The Qualitative data is classified into two categories:\n",
    "Nominal data.\n",
    "Ordinal data.\n",
    "\n",
    "The Quantitative data is classified into two categories:\n",
    "Discrete data.\n",
    "Continuous data."
   ]
  },
  {
   "cell_type": "markdown",
   "id": "074114d6-b799-4417-a826-08459f86e4c1",
   "metadata": {},
   "source": [
    "Nominal data can’t be quantified, neither they have any intrinsic ordering. Ex : Eye color, housing style\n",
    "Ordinal data gives some kind of sequential order by their position on the scale. Ex: education level, letter grades\n",
    "Discrete data are countable and finite; they are whole numbers or integers. Ex: Total students in a class\n",
    "Continuous data are measurable; they are in the form of fractions or decimal .Ex: Temperature of room"
   ]
  },
  {
   "cell_type": "markdown",
   "id": "9abcc362-9b10-436d-935b-78479595d72d",
   "metadata": {},
   "source": [
    "Q4. Categorise the following datasets with respect to quantitative and qualitative data types:\n",
    "(i) Grading in exam: A+, A, B+, B, C+, C, D, E\n",
    "(ii) Colour of mangoes: yellow, green, orange, red\n",
    "(iii) Height data of a class: [178.9, 179, 179.5, 176, 177.2, 178.3, 175.8,...]\n",
    "(iv) Number of mangoes exported by a farm: [500, 600, 478, 672, ...]"
   ]
  },
  {
   "cell_type": "markdown",
   "id": "f9356f6f-8b19-4aab-91d3-20c37dcd4daf",
   "metadata": {},
   "source": [
    "Ans :(i) Grading in exam: A+, A, B+, B, C+, C, D, E ->Ordinal Data\n",
    "(ii) Colour of mangoes: yellow, green, orange, red ->Nominal data\n",
    "(iii) Height data of a class: [178.9, 179, 179.5, 176, 177.2, 178.3, 175.8,...]->Continuous data\n",
    "(iv) Number of mangoes exported by a farm: [500, 600, 478, 672, ...]->Discrete data"
   ]
  },
  {
   "cell_type": "markdown",
   "id": "db5f832a-0abc-48cd-8118-a66f8725c4f0",
   "metadata": {},
   "source": [
    "Q5. Explain the concept of levels of measurement and give an example of a variable for each level."
   ]
  },
  {
   "cell_type": "markdown",
   "id": "10b30879-dc94-496f-8673-728fda0d89f3",
   "metadata": {},
   "source": [
    "Ans :Nominal: the data can only be categorized.Ex :City of birth\n",
    "Ordinal: the data can be categorized and ranked. Ex: Top 5 Olympic medallists\n",
    "Interval: the data can be categorized and ranked, and evenly spaced.Ex :Test scores (e.g., IQ or exams)\n",
    "Ratio: the data can be categorized, ranked, evenly spaced and has a natural zero.Ex :Height"
   ]
  },
  {
   "cell_type": "markdown",
   "id": "0e62d301-2b97-46f2-9f79-8513edf6691d",
   "metadata": {},
   "source": [
    "Q6. Why is it important to understand the level of measurement when analyzing data? Provide an\n",
    "example to illustrate your answer."
   ]
  },
  {
   "cell_type": "markdown",
   "id": "f38318d9-51fd-4bd0-9711-830063578ac1",
   "metadata": {},
   "source": [
    "Ans :It is important to understand the level of measurement of variables in research, because the level of measurement determines the type of statistical analysis that can be conducted, and, therefore, the type of conclusions that can be drawn from the research."
   ]
  },
  {
   "cell_type": "markdown",
   "id": "fd14b7b1-b8f3-4000-9c5a-b378ea059c52",
   "metadata": {},
   "source": [
    "Ordinal level: You create brackets of income ranges: $0–$19,999, $20,000–$39,999, and $40,000–$59,999. You ask participants to select the bracket that represents their annual income. The brackets are coded with numbers from 1–3.\n",
    "Ratio level: You collect data on the exact annual incomes of your participants."
   ]
  },
  {
   "cell_type": "markdown",
   "id": "fa37c983-d157-4143-a2a7-c1c77487f1cd",
   "metadata": {},
   "source": [
    "Q7. How nominal data type is different from ordinal data type."
   ]
  },
  {
   "cell_type": "markdown",
   "id": "ba2a7c7d-9ee9-46ca-99e9-2214e56979a5",
   "metadata": {},
   "source": [
    "Ans :Nominal data is classified without a natural order or rank, whereas ordinal data has a predetermined or natural order. On the other hand, numerical or quantitative data will always be a number that can be measured."
   ]
  },
  {
   "cell_type": "markdown",
   "id": "c209c7bf-c9f1-40db-88cd-4d55ee93d81e",
   "metadata": {},
   "source": [
    "Q8. Which type of plot can be used to display data in terms of range?"
   ]
  },
  {
   "cell_type": "markdown",
   "id": "72b45f4f-0acf-4997-a4ca-89c69bfa9561",
   "metadata": {},
   "source": [
    "Ans : range plot"
   ]
  },
  {
   "cell_type": "markdown",
   "id": "93124434-d714-43b3-9344-98870369f4f1",
   "metadata": {},
   "source": [
    "Q9. Describe the difference between descriptive and inferential statistics. Give an example of each\n",
    "type of statistics and explain how they are used."
   ]
  },
  {
   "cell_type": "markdown",
   "id": "adc7c818-9fff-4fba-bfac-190590dfdc0c",
   "metadata": {},
   "source": [
    "Ans :Descriptive statistics summarize the characteristics of a data set. \n",
    "Inferential statistics allow you to test a hypothesis or assess whether your data is generalizable to the broader population."
   ]
  },
  {
   "cell_type": "markdown",
   "id": "6431a51c-0740-4c9e-9e0b-08c9592f308e",
   "metadata": {},
   "source": [
    "Descriptive statistics Example : In a class, the Data is the set of marks obtained by 50 students. Now when we take out the Data average, the result is the average of 50 students’ marks.\n",
    "\n",
    "Inferential statistics Example :If the average marks obtained by 50 students are 88 out of 100, on the basis of the outcome, we will draw a conclusion. "
   ]
  },
  {
   "cell_type": "markdown",
   "id": "87835a9f-2c57-49ca-9908-3d06b5460e93",
   "metadata": {},
   "source": [
    "Q10. What are some common measures of central tendency and variability used in statistics? Explain\n",
    "how each measure can be used to describe a dataset."
   ]
  },
  {
   "cell_type": "markdown",
   "id": "1a35e7e6-91cf-408d-b111-ebdf6f76bcd9",
   "metadata": {},
   "source": [
    "Ans :Measures of central tendency tell us what is common or typical about our variable. Three measures of central tendency are the mode, the median and the mean. The mode is used almost exclusively with nominal-level data, as it is the only measure of central tendency available for such variables"
   ]
  },
  {
   "cell_type": "raw",
   "id": "1fc556f3-67b8-438a-9be7-9d0a8f6c0d04",
   "metadata": {},
   "source": [
    "The central tendency can be found using the formulas of mean, median or mode in most of the cases. As we know, mean is the average of a given data set, median is the middlemost data value and the mode represents the most frequently occurring data value in the set."
   ]
  }
 ],
 "metadata": {
  "kernelspec": {
   "display_name": "Python 3 (ipykernel)",
   "language": "python",
   "name": "python3"
  },
  "language_info": {
   "codemirror_mode": {
    "name": "ipython",
    "version": 3
   },
   "file_extension": ".py",
   "mimetype": "text/x-python",
   "name": "python",
   "nbconvert_exporter": "python",
   "pygments_lexer": "ipython3",
   "version": "3.10.8"
  }
 },
 "nbformat": 4,
 "nbformat_minor": 5
}
